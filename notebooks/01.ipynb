{
 "cells": [
  {
   "cell_type": "code",
   "execution_count": 2,
   "source": [
    "from urllib.request import urlopen\n",
    "url = 'http://data.gdeltproject.org/gdeltv2/lastupdate.txt'\n",
    "data = urlopen(url)\n",
    "data.read()"
   ],
   "outputs": [
    {
     "output_type": "execute_result",
     "data": {
      "text/plain": [
       "b'50359 5cdcd15ca920887d02f6e80b5756c5b8 http://data.gdeltproject.org/gdeltv2/20210904133000.export.CSV.zip\\n98080 02c8d4177d4a905c2f113f1ca36276d6 http://data.gdeltproject.org/gdeltv2/20210904133000.mentions.CSV.zip\\n3815932 4d1477851e7094ff9154cb85aa91eebb http://data.gdeltproject.org/gdeltv2/20210904133000.gkg.csv.zip\\n'"
      ]
     },
     "metadata": {},
     "execution_count": 2
    }
   ],
   "metadata": {}
  },
  {
   "cell_type": "code",
   "execution_count": 7,
   "source": [
    "import requests\n",
    "\n",
    "r = requests.get(url)\n",
    "r.status_code"
   ],
   "outputs": [
    {
     "output_type": "execute_result",
     "data": {
      "text/plain": [
       "200"
      ]
     },
     "metadata": {},
     "execution_count": 7
    }
   ],
   "metadata": {}
  },
  {
   "cell_type": "code",
   "execution_count": 8,
   "source": [
    "r.headers['content-type']"
   ],
   "outputs": [
    {
     "output_type": "execute_result",
     "data": {
      "text/plain": [
       "'text/plain'"
      ]
     },
     "metadata": {},
     "execution_count": 8
    }
   ],
   "metadata": {}
  },
  {
   "cell_type": "code",
   "execution_count": 9,
   "source": [
    "r.encoding"
   ],
   "outputs": [
    {
     "output_type": "execute_result",
     "data": {
      "text/plain": [
       "'ISO-8859-1'"
      ]
     },
     "metadata": {},
     "execution_count": 9
    }
   ],
   "metadata": {}
  },
  {
   "cell_type": "code",
   "execution_count": 10,
   "source": [
    "r.text"
   ],
   "outputs": [
    {
     "output_type": "execute_result",
     "data": {
      "text/plain": [
       "'50359 5cdcd15ca920887d02f6e80b5756c5b8 http://data.gdeltproject.org/gdeltv2/20210904133000.export.CSV.zip\\n98080 02c8d4177d4a905c2f113f1ca36276d6 http://data.gdeltproject.org/gdeltv2/20210904133000.mentions.CSV.zip\\n3815932 4d1477851e7094ff9154cb85aa91eebb http://data.gdeltproject.org/gdeltv2/20210904133000.gkg.csv.zip\\n'"
      ]
     },
     "metadata": {},
     "execution_count": 10
    }
   ],
   "metadata": {}
  },
  {
   "cell_type": "code",
   "execution_count": 11,
   "source": [
    "r.json()"
   ],
   "outputs": [
    {
     "output_type": "error",
     "ename": "JSONDecodeError",
     "evalue": "Extra data: line 1 column 7 (char 6)",
     "traceback": [
      "\u001b[0;31m---------------------------------------------------------------------------\u001b[0m",
      "\u001b[0;31mJSONDecodeError\u001b[0m                           Traceback (most recent call last)",
      "\u001b[0;32m/tmp/ipykernel_2721/661903446.py\u001b[0m in \u001b[0;36m<module>\u001b[0;34m\u001b[0m\n\u001b[0;32m----> 1\u001b[0;31m \u001b[0mr\u001b[0m\u001b[0;34m.\u001b[0m\u001b[0mjson\u001b[0m\u001b[0;34m(\u001b[0m\u001b[0;34m)\u001b[0m\u001b[0;34m\u001b[0m\u001b[0;34m\u001b[0m\u001b[0m\n\u001b[0m",
      "\u001b[0;32m~/.pyenv/versions/3.8.6/envs/gdelt/lib/python3.8/site-packages/requests/models.py\u001b[0m in \u001b[0;36mjson\u001b[0;34m(self, **kwargs)\u001b[0m\n\u001b[1;32m    908\u001b[0m                     \u001b[0;31m# used.\u001b[0m\u001b[0;34m\u001b[0m\u001b[0;34m\u001b[0m\u001b[0;34m\u001b[0m\u001b[0m\n\u001b[1;32m    909\u001b[0m                     \u001b[0;32mpass\u001b[0m\u001b[0;34m\u001b[0m\u001b[0;34m\u001b[0m\u001b[0m\n\u001b[0;32m--> 910\u001b[0;31m         \u001b[0;32mreturn\u001b[0m \u001b[0mcomplexjson\u001b[0m\u001b[0;34m.\u001b[0m\u001b[0mloads\u001b[0m\u001b[0;34m(\u001b[0m\u001b[0mself\u001b[0m\u001b[0;34m.\u001b[0m\u001b[0mtext\u001b[0m\u001b[0;34m,\u001b[0m \u001b[0;34m**\u001b[0m\u001b[0mkwargs\u001b[0m\u001b[0;34m)\u001b[0m\u001b[0;34m\u001b[0m\u001b[0;34m\u001b[0m\u001b[0m\n\u001b[0m\u001b[1;32m    911\u001b[0m \u001b[0;34m\u001b[0m\u001b[0m\n\u001b[1;32m    912\u001b[0m     \u001b[0;34m@\u001b[0m\u001b[0mproperty\u001b[0m\u001b[0;34m\u001b[0m\u001b[0;34m\u001b[0m\u001b[0m\n",
      "\u001b[0;32m~/.pyenv/versions/3.8.6/lib/python3.8/json/__init__.py\u001b[0m in \u001b[0;36mloads\u001b[0;34m(s, cls, object_hook, parse_float, parse_int, parse_constant, object_pairs_hook, **kw)\u001b[0m\n\u001b[1;32m    355\u001b[0m             \u001b[0mparse_int\u001b[0m \u001b[0;32mis\u001b[0m \u001b[0;32mNone\u001b[0m \u001b[0;32mand\u001b[0m \u001b[0mparse_float\u001b[0m \u001b[0;32mis\u001b[0m \u001b[0;32mNone\u001b[0m \u001b[0;32mand\u001b[0m\u001b[0;34m\u001b[0m\u001b[0;34m\u001b[0m\u001b[0m\n\u001b[1;32m    356\u001b[0m             parse_constant is None and object_pairs_hook is None and not kw):\n\u001b[0;32m--> 357\u001b[0;31m         \u001b[0;32mreturn\u001b[0m \u001b[0m_default_decoder\u001b[0m\u001b[0;34m.\u001b[0m\u001b[0mdecode\u001b[0m\u001b[0;34m(\u001b[0m\u001b[0ms\u001b[0m\u001b[0;34m)\u001b[0m\u001b[0;34m\u001b[0m\u001b[0;34m\u001b[0m\u001b[0m\n\u001b[0m\u001b[1;32m    358\u001b[0m     \u001b[0;32mif\u001b[0m \u001b[0mcls\u001b[0m \u001b[0;32mis\u001b[0m \u001b[0;32mNone\u001b[0m\u001b[0;34m:\u001b[0m\u001b[0;34m\u001b[0m\u001b[0;34m\u001b[0m\u001b[0m\n\u001b[1;32m    359\u001b[0m         \u001b[0mcls\u001b[0m \u001b[0;34m=\u001b[0m \u001b[0mJSONDecoder\u001b[0m\u001b[0;34m\u001b[0m\u001b[0;34m\u001b[0m\u001b[0m\n",
      "\u001b[0;32m~/.pyenv/versions/3.8.6/lib/python3.8/json/decoder.py\u001b[0m in \u001b[0;36mdecode\u001b[0;34m(self, s, _w)\u001b[0m\n\u001b[1;32m    338\u001b[0m         \u001b[0mend\u001b[0m \u001b[0;34m=\u001b[0m \u001b[0m_w\u001b[0m\u001b[0;34m(\u001b[0m\u001b[0ms\u001b[0m\u001b[0;34m,\u001b[0m \u001b[0mend\u001b[0m\u001b[0;34m)\u001b[0m\u001b[0;34m.\u001b[0m\u001b[0mend\u001b[0m\u001b[0;34m(\u001b[0m\u001b[0;34m)\u001b[0m\u001b[0;34m\u001b[0m\u001b[0;34m\u001b[0m\u001b[0m\n\u001b[1;32m    339\u001b[0m         \u001b[0;32mif\u001b[0m \u001b[0mend\u001b[0m \u001b[0;34m!=\u001b[0m \u001b[0mlen\u001b[0m\u001b[0;34m(\u001b[0m\u001b[0ms\u001b[0m\u001b[0;34m)\u001b[0m\u001b[0;34m:\u001b[0m\u001b[0;34m\u001b[0m\u001b[0;34m\u001b[0m\u001b[0m\n\u001b[0;32m--> 340\u001b[0;31m             \u001b[0;32mraise\u001b[0m \u001b[0mJSONDecodeError\u001b[0m\u001b[0;34m(\u001b[0m\u001b[0;34m\"Extra data\"\u001b[0m\u001b[0;34m,\u001b[0m \u001b[0ms\u001b[0m\u001b[0;34m,\u001b[0m \u001b[0mend\u001b[0m\u001b[0;34m)\u001b[0m\u001b[0;34m\u001b[0m\u001b[0;34m\u001b[0m\u001b[0m\n\u001b[0m\u001b[1;32m    341\u001b[0m         \u001b[0;32mreturn\u001b[0m \u001b[0mobj\u001b[0m\u001b[0;34m\u001b[0m\u001b[0;34m\u001b[0m\u001b[0m\n\u001b[1;32m    342\u001b[0m \u001b[0;34m\u001b[0m\u001b[0m\n",
      "\u001b[0;31mJSONDecodeError\u001b[0m: Extra data: line 1 column 7 (char 6)"
     ]
    }
   ],
   "metadata": {}
  },
  {
   "cell_type": "code",
   "execution_count": 49,
   "source": [
    "import pandas as pd\n",
    "import os\n",
    "# import glob"
   ],
   "outputs": [],
   "metadata": {}
  },
  {
   "cell_type": "code",
   "execution_count": 52,
   "source": [
    "path = '../temp/'\n",
    "extension = 'csv'\n",
    "os.chdir(path)\n",
    "csv_files = glob.glob('*.{}'.format(extension))"
   ],
   "outputs": [],
   "metadata": {}
  },
  {
   "cell_type": "code",
   "execution_count": 53,
   "source": [
    "print(csv_files)"
   ],
   "outputs": [
    {
     "output_type": "stream",
     "name": "stdout",
     "text": [
      "['20210903121500.export.csv', '20210903120000.export.csv', '20210903140000.export.csv']\n"
     ]
    }
   ],
   "metadata": {}
  },
  {
   "cell_type": "code",
   "execution_count": 41,
   "source": [
    "csv_files.sort(reverse=True)\n",
    "print(csv_files)"
   ],
   "outputs": [
    {
     "output_type": "stream",
     "name": "stdout",
     "text": [
      "['20210903140000.export.csv', '20210903121500.export.csv', '20210903120000.export.csv']\n"
     ]
    }
   ],
   "metadata": {}
  },
  {
   "cell_type": "code",
   "execution_count": 42,
   "source": [
    "df = pd.read_csv(csv_files[0], sep='\\t', header = None)\n",
    "df.head()"
   ],
   "outputs": [
    {
     "output_type": "execute_result",
     "data": {
      "text/html": [
       "<div>\n",
       "<style scoped>\n",
       "    .dataframe tbody tr th:only-of-type {\n",
       "        vertical-align: middle;\n",
       "    }\n",
       "\n",
       "    .dataframe tbody tr th {\n",
       "        vertical-align: top;\n",
       "    }\n",
       "\n",
       "    .dataframe thead th {\n",
       "        text-align: right;\n",
       "    }\n",
       "</style>\n",
       "<table border=\"1\" class=\"dataframe\">\n",
       "  <thead>\n",
       "    <tr style=\"text-align: right;\">\n",
       "      <th></th>\n",
       "      <th>0</th>\n",
       "      <th>1</th>\n",
       "      <th>2</th>\n",
       "      <th>3</th>\n",
       "      <th>4</th>\n",
       "      <th>5</th>\n",
       "      <th>6</th>\n",
       "      <th>7</th>\n",
       "      <th>8</th>\n",
       "      <th>9</th>\n",
       "      <th>...</th>\n",
       "      <th>51</th>\n",
       "      <th>52</th>\n",
       "      <th>53</th>\n",
       "      <th>54</th>\n",
       "      <th>55</th>\n",
       "      <th>56</th>\n",
       "      <th>57</th>\n",
       "      <th>58</th>\n",
       "      <th>59</th>\n",
       "      <th>60</th>\n",
       "    </tr>\n",
       "  </thead>\n",
       "  <tbody>\n",
       "    <tr>\n",
       "      <th>0</th>\n",
       "      <td>1002396647</td>\n",
       "      <td>20200903</td>\n",
       "      <td>202009</td>\n",
       "      <td>2020</td>\n",
       "      <td>2020.6658</td>\n",
       "      <td>NaN</td>\n",
       "      <td>NaN</td>\n",
       "      <td>NaN</td>\n",
       "      <td>NaN</td>\n",
       "      <td>NaN</td>\n",
       "      <td>...</td>\n",
       "      <td>1</td>\n",
       "      <td>China</td>\n",
       "      <td>CH</td>\n",
       "      <td>CH</td>\n",
       "      <td>NaN</td>\n",
       "      <td>35.000000</td>\n",
       "      <td>105.0000</td>\n",
       "      <td>CH</td>\n",
       "      <td>20210903140000</td>\n",
       "      <td>https://www.marketscreener.com/quote/stock/CHI...</td>\n",
       "    </tr>\n",
       "    <tr>\n",
       "      <th>1</th>\n",
       "      <td>1002396648</td>\n",
       "      <td>20200903</td>\n",
       "      <td>202009</td>\n",
       "      <td>2020</td>\n",
       "      <td>2020.6658</td>\n",
       "      <td>EDU</td>\n",
       "      <td>PUPIL</td>\n",
       "      <td>NaN</td>\n",
       "      <td>NaN</td>\n",
       "      <td>NaN</td>\n",
       "      <td>...</td>\n",
       "      <td>5</td>\n",
       "      <td>Omusati, Omusati, Namibia</td>\n",
       "      <td>WA</td>\n",
       "      <td>WA36</td>\n",
       "      <td>42167</td>\n",
       "      <td>-18.333300</td>\n",
       "      <td>14.8333</td>\n",
       "      <td>311110</td>\n",
       "      <td>20210903140000</td>\n",
       "      <td>https://allafrica.com/stories/202109030652.html</td>\n",
       "    </tr>\n",
       "    <tr>\n",
       "      <th>2</th>\n",
       "      <td>1002396649</td>\n",
       "      <td>20200903</td>\n",
       "      <td>202009</td>\n",
       "      <td>2020</td>\n",
       "      <td>2020.6658</td>\n",
       "      <td>EDU</td>\n",
       "      <td>SCHOOL</td>\n",
       "      <td>NaN</td>\n",
       "      <td>NaN</td>\n",
       "      <td>NaN</td>\n",
       "      <td>...</td>\n",
       "      <td>4</td>\n",
       "      <td>Windhoek, Khomas, Namibia</td>\n",
       "      <td>WA</td>\n",
       "      <td>WA21</td>\n",
       "      <td>22288</td>\n",
       "      <td>-22.570000</td>\n",
       "      <td>17.0836</td>\n",
       "      <td>-2587496</td>\n",
       "      <td>20210903140000</td>\n",
       "      <td>https://allafrica.com/stories/202109030652.html</td>\n",
       "    </tr>\n",
       "    <tr>\n",
       "      <th>3</th>\n",
       "      <td>1002396650</td>\n",
       "      <td>20200903</td>\n",
       "      <td>202009</td>\n",
       "      <td>2020</td>\n",
       "      <td>2020.6658</td>\n",
       "      <td>ELI</td>\n",
       "      <td>FIRST LADY</td>\n",
       "      <td>NaN</td>\n",
       "      <td>NaN</td>\n",
       "      <td>NaN</td>\n",
       "      <td>...</td>\n",
       "      <td>2</td>\n",
       "      <td>Delaware, United States</td>\n",
       "      <td>US</td>\n",
       "      <td>USDE</td>\n",
       "      <td>NaN</td>\n",
       "      <td>39.349800</td>\n",
       "      <td>-75.5148</td>\n",
       "      <td>DE</td>\n",
       "      <td>20210903140000</td>\n",
       "      <td>https://www.dailymail.co.uk/news/article-99550...</td>\n",
       "    </tr>\n",
       "    <tr>\n",
       "      <th>4</th>\n",
       "      <td>1002396651</td>\n",
       "      <td>20200903</td>\n",
       "      <td>202009</td>\n",
       "      <td>2020</td>\n",
       "      <td>2020.6658</td>\n",
       "      <td>ELI</td>\n",
       "      <td>FIRST LADY</td>\n",
       "      <td>NaN</td>\n",
       "      <td>NaN</td>\n",
       "      <td>NaN</td>\n",
       "      <td>...</td>\n",
       "      <td>1</td>\n",
       "      <td>Singapore</td>\n",
       "      <td>SN</td>\n",
       "      <td>SN</td>\n",
       "      <td>NaN</td>\n",
       "      <td>1.366667</td>\n",
       "      <td>103.8000</td>\n",
       "      <td>SN</td>\n",
       "      <td>20210903140000</td>\n",
       "      <td>https://www.dailymail.co.uk/news/article-99550...</td>\n",
       "    </tr>\n",
       "  </tbody>\n",
       "</table>\n",
       "<p>5 rows × 61 columns</p>\n",
       "</div>"
      ],
      "text/plain": [
       "           0         1       2     3          4    5           6    7    8   \\\n",
       "0  1002396647  20200903  202009  2020  2020.6658  NaN         NaN  NaN  NaN   \n",
       "1  1002396648  20200903  202009  2020  2020.6658  EDU       PUPIL  NaN  NaN   \n",
       "2  1002396649  20200903  202009  2020  2020.6658  EDU      SCHOOL  NaN  NaN   \n",
       "3  1002396650  20200903  202009  2020  2020.6658  ELI  FIRST LADY  NaN  NaN   \n",
       "4  1002396651  20200903  202009  2020  2020.6658  ELI  FIRST LADY  NaN  NaN   \n",
       "\n",
       "    9   ... 51                         52  53    54     55         56  \\\n",
       "0  NaN  ...  1                      China  CH    CH    NaN  35.000000   \n",
       "1  NaN  ...  5  Omusati, Omusati, Namibia  WA  WA36  42167 -18.333300   \n",
       "2  NaN  ...  4  Windhoek, Khomas, Namibia  WA  WA21  22288 -22.570000   \n",
       "3  NaN  ...  2    Delaware, United States  US  USDE    NaN  39.349800   \n",
       "4  NaN  ...  1                  Singapore  SN    SN    NaN   1.366667   \n",
       "\n",
       "         57        58              59  \\\n",
       "0  105.0000        CH  20210903140000   \n",
       "1   14.8333    311110  20210903140000   \n",
       "2   17.0836  -2587496  20210903140000   \n",
       "3  -75.5148        DE  20210903140000   \n",
       "4  103.8000        SN  20210903140000   \n",
       "\n",
       "                                                  60  \n",
       "0  https://www.marketscreener.com/quote/stock/CHI...  \n",
       "1    https://allafrica.com/stories/202109030652.html  \n",
       "2    https://allafrica.com/stories/202109030652.html  \n",
       "3  https://www.dailymail.co.uk/news/article-99550...  \n",
       "4  https://www.dailymail.co.uk/news/article-99550...  \n",
       "\n",
       "[5 rows x 61 columns]"
      ]
     },
     "metadata": {},
     "execution_count": 42
    }
   ],
   "metadata": {}
  },
  {
   "cell_type": "code",
   "execution_count": 44,
   "source": [
    "df.columns = df.columns.astype(str)"
   ],
   "outputs": [],
   "metadata": {}
  },
  {
   "cell_type": "code",
   "execution_count": 48,
   "source": [
    "df.to_parquet('myfile.parquet')"
   ],
   "outputs": [],
   "metadata": {}
  },
  {
   "cell_type": "code",
   "execution_count": 1,
   "source": [
    "# loop over the list of csv files\n",
    "# for f in csv_files:\n",
    "    \n",
    "#     # read the csv file\n",
    "#     df = pd.read_csv(f, sep='\\t', header = None)\n",
    "    \n",
    "#     # print the location and filename\n",
    "#     print('Location:', f)\n",
    "#     print('File Name:', f.split(\"\\\\\")[-1])\n",
    "    \n",
    "#     # print the content\n",
    "#     print('Content:')\n",
    "#     display(df)\n",
    "#     print()"
   ],
   "outputs": [],
   "metadata": {}
  },
  {
   "cell_type": "code",
   "execution_count": 25,
   "source": [
    "df = pd.read_csv('../temp/20210903140000.export.csv', sep='\\t', header = None)\n",
    "df.head()"
   ],
   "outputs": [
    {
     "output_type": "execute_result",
     "data": {
      "text/html": [
       "<div>\n",
       "<style scoped>\n",
       "    .dataframe tbody tr th:only-of-type {\n",
       "        vertical-align: middle;\n",
       "    }\n",
       "\n",
       "    .dataframe tbody tr th {\n",
       "        vertical-align: top;\n",
       "    }\n",
       "\n",
       "    .dataframe thead th {\n",
       "        text-align: right;\n",
       "    }\n",
       "</style>\n",
       "<table border=\"1\" class=\"dataframe\">\n",
       "  <thead>\n",
       "    <tr style=\"text-align: right;\">\n",
       "      <th></th>\n",
       "      <th>0</th>\n",
       "      <th>1</th>\n",
       "      <th>2</th>\n",
       "      <th>3</th>\n",
       "      <th>4</th>\n",
       "      <th>5</th>\n",
       "      <th>6</th>\n",
       "      <th>7</th>\n",
       "      <th>8</th>\n",
       "      <th>9</th>\n",
       "      <th>...</th>\n",
       "      <th>51</th>\n",
       "      <th>52</th>\n",
       "      <th>53</th>\n",
       "      <th>54</th>\n",
       "      <th>55</th>\n",
       "      <th>56</th>\n",
       "      <th>57</th>\n",
       "      <th>58</th>\n",
       "      <th>59</th>\n",
       "      <th>60</th>\n",
       "    </tr>\n",
       "  </thead>\n",
       "  <tbody>\n",
       "    <tr>\n",
       "      <th>0</th>\n",
       "      <td>1002396647</td>\n",
       "      <td>20200903</td>\n",
       "      <td>202009</td>\n",
       "      <td>2020</td>\n",
       "      <td>2020.6658</td>\n",
       "      <td>NaN</td>\n",
       "      <td>NaN</td>\n",
       "      <td>NaN</td>\n",
       "      <td>NaN</td>\n",
       "      <td>NaN</td>\n",
       "      <td>...</td>\n",
       "      <td>1</td>\n",
       "      <td>China</td>\n",
       "      <td>CH</td>\n",
       "      <td>CH</td>\n",
       "      <td>NaN</td>\n",
       "      <td>35.000000</td>\n",
       "      <td>105.0000</td>\n",
       "      <td>CH</td>\n",
       "      <td>20210903140000</td>\n",
       "      <td>https://www.marketscreener.com/quote/stock/CHI...</td>\n",
       "    </tr>\n",
       "    <tr>\n",
       "      <th>1</th>\n",
       "      <td>1002396648</td>\n",
       "      <td>20200903</td>\n",
       "      <td>202009</td>\n",
       "      <td>2020</td>\n",
       "      <td>2020.6658</td>\n",
       "      <td>EDU</td>\n",
       "      <td>PUPIL</td>\n",
       "      <td>NaN</td>\n",
       "      <td>NaN</td>\n",
       "      <td>NaN</td>\n",
       "      <td>...</td>\n",
       "      <td>5</td>\n",
       "      <td>Omusati, Omusati, Namibia</td>\n",
       "      <td>WA</td>\n",
       "      <td>WA36</td>\n",
       "      <td>42167</td>\n",
       "      <td>-18.333300</td>\n",
       "      <td>14.8333</td>\n",
       "      <td>311110</td>\n",
       "      <td>20210903140000</td>\n",
       "      <td>https://allafrica.com/stories/202109030652.html</td>\n",
       "    </tr>\n",
       "    <tr>\n",
       "      <th>2</th>\n",
       "      <td>1002396649</td>\n",
       "      <td>20200903</td>\n",
       "      <td>202009</td>\n",
       "      <td>2020</td>\n",
       "      <td>2020.6658</td>\n",
       "      <td>EDU</td>\n",
       "      <td>SCHOOL</td>\n",
       "      <td>NaN</td>\n",
       "      <td>NaN</td>\n",
       "      <td>NaN</td>\n",
       "      <td>...</td>\n",
       "      <td>4</td>\n",
       "      <td>Windhoek, Khomas, Namibia</td>\n",
       "      <td>WA</td>\n",
       "      <td>WA21</td>\n",
       "      <td>22288</td>\n",
       "      <td>-22.570000</td>\n",
       "      <td>17.0836</td>\n",
       "      <td>-2587496</td>\n",
       "      <td>20210903140000</td>\n",
       "      <td>https://allafrica.com/stories/202109030652.html</td>\n",
       "    </tr>\n",
       "    <tr>\n",
       "      <th>3</th>\n",
       "      <td>1002396650</td>\n",
       "      <td>20200903</td>\n",
       "      <td>202009</td>\n",
       "      <td>2020</td>\n",
       "      <td>2020.6658</td>\n",
       "      <td>ELI</td>\n",
       "      <td>FIRST LADY</td>\n",
       "      <td>NaN</td>\n",
       "      <td>NaN</td>\n",
       "      <td>NaN</td>\n",
       "      <td>...</td>\n",
       "      <td>2</td>\n",
       "      <td>Delaware, United States</td>\n",
       "      <td>US</td>\n",
       "      <td>USDE</td>\n",
       "      <td>NaN</td>\n",
       "      <td>39.349800</td>\n",
       "      <td>-75.5148</td>\n",
       "      <td>DE</td>\n",
       "      <td>20210903140000</td>\n",
       "      <td>https://www.dailymail.co.uk/news/article-99550...</td>\n",
       "    </tr>\n",
       "    <tr>\n",
       "      <th>4</th>\n",
       "      <td>1002396651</td>\n",
       "      <td>20200903</td>\n",
       "      <td>202009</td>\n",
       "      <td>2020</td>\n",
       "      <td>2020.6658</td>\n",
       "      <td>ELI</td>\n",
       "      <td>FIRST LADY</td>\n",
       "      <td>NaN</td>\n",
       "      <td>NaN</td>\n",
       "      <td>NaN</td>\n",
       "      <td>...</td>\n",
       "      <td>1</td>\n",
       "      <td>Singapore</td>\n",
       "      <td>SN</td>\n",
       "      <td>SN</td>\n",
       "      <td>NaN</td>\n",
       "      <td>1.366667</td>\n",
       "      <td>103.8000</td>\n",
       "      <td>SN</td>\n",
       "      <td>20210903140000</td>\n",
       "      <td>https://www.dailymail.co.uk/news/article-99550...</td>\n",
       "    </tr>\n",
       "  </tbody>\n",
       "</table>\n",
       "<p>5 rows × 61 columns</p>\n",
       "</div>"
      ],
      "text/plain": [
       "           0         1       2     3          4    5           6    7    8   \\\n",
       "0  1002396647  20200903  202009  2020  2020.6658  NaN         NaN  NaN  NaN   \n",
       "1  1002396648  20200903  202009  2020  2020.6658  EDU       PUPIL  NaN  NaN   \n",
       "2  1002396649  20200903  202009  2020  2020.6658  EDU      SCHOOL  NaN  NaN   \n",
       "3  1002396650  20200903  202009  2020  2020.6658  ELI  FIRST LADY  NaN  NaN   \n",
       "4  1002396651  20200903  202009  2020  2020.6658  ELI  FIRST LADY  NaN  NaN   \n",
       "\n",
       "    9   ... 51                         52  53    54     55         56  \\\n",
       "0  NaN  ...  1                      China  CH    CH    NaN  35.000000   \n",
       "1  NaN  ...  5  Omusati, Omusati, Namibia  WA  WA36  42167 -18.333300   \n",
       "2  NaN  ...  4  Windhoek, Khomas, Namibia  WA  WA21  22288 -22.570000   \n",
       "3  NaN  ...  2    Delaware, United States  US  USDE    NaN  39.349800   \n",
       "4  NaN  ...  1                  Singapore  SN    SN    NaN   1.366667   \n",
       "\n",
       "         57        58              59  \\\n",
       "0  105.0000        CH  20210903140000   \n",
       "1   14.8333    311110  20210903140000   \n",
       "2   17.0836  -2587496  20210903140000   \n",
       "3  -75.5148        DE  20210903140000   \n",
       "4  103.8000        SN  20210903140000   \n",
       "\n",
       "                                                  60  \n",
       "0  https://www.marketscreener.com/quote/stock/CHI...  \n",
       "1    https://allafrica.com/stories/202109030652.html  \n",
       "2    https://allafrica.com/stories/202109030652.html  \n",
       "3  https://www.dailymail.co.uk/news/article-99550...  \n",
       "4  https://www.dailymail.co.uk/news/article-99550...  \n",
       "\n",
       "[5 rows x 61 columns]"
      ]
     },
     "metadata": {},
     "execution_count": 25
    }
   ],
   "metadata": {}
  },
  {
   "cell_type": "code",
   "execution_count": 9,
   "source": [
    "df.shape"
   ],
   "outputs": [
    {
     "output_type": "execute_result",
     "data": {
      "text/plain": [
       "(1546, 61)"
      ]
     },
     "metadata": {},
     "execution_count": 9
    }
   ],
   "metadata": {}
  },
  {
   "cell_type": "code",
   "execution_count": 12,
   "source": [
    "df[60].nunique()"
   ],
   "outputs": [
    {
     "output_type": "execute_result",
     "data": {
      "text/plain": [
       "314"
      ]
     },
     "metadata": {},
     "execution_count": 12
    }
   ],
   "metadata": {}
  },
  {
   "cell_type": "code",
   "execution_count": 13,
   "source": [
    "df[60].value_counts()"
   ],
   "outputs": [
    {
     "output_type": "execute_result",
     "data": {
      "text/plain": [
       "https://dnd.com.pk/osce-armenia-and-azerbaijan/252737                                                                                                         55\n",
       "https://www.theepochtimes.com/raab-visits-pakistan-to-discuss-safe-passage-out-of-afghanistan_3979963.html                                                    36\n",
       "https://www.dw.com/en/eu-escalates-row-with-gambia-over-expelled-migrants/a-59072367                                                                          24\n",
       "https://english.wafa.ps/Pages/Details/125963                                                                                                                  23\n",
       "https://www.tribuneindia.com/news/world/uk-foreign-secretary-sees-importance-in-engaging-with-taliban-306008                                                  23\n",
       "                                                                                                                                                              ..\n",
       "https://www.ctvnews.ca/politics/federal-election-2021/four-leaders-made-final-pitches-to-voters-after-heated-debate-1.5571893                                  1\n",
       "https://www.chronicleonline.com/news/national/former-cardinal-mccarrick-pleads-not-guilty-to-sex-assault/article_5e1d9317-410a-5caa-a26f-6efc6033393a.html     1\n",
       "https://phys.org/news/2021-09-nitrogen-efficient-wheats-food-greenhouse-gas.html                                                                               1\n",
       "https://vancouversun.com/opinion/chris-selley-french-language-debate-was-a-showdown-between-two-visions-of-federalism                                          1\n",
       "https://www.indiatoday.in/movies/regional-cinema/story/sai-pallavi-enjoys-the-breeze-in-coral-coloured-saree-shares-pics-1848946-2021-09-03                    1\n",
       "Name: 60, Length: 314, dtype: int64"
      ]
     },
     "metadata": {},
     "execution_count": 13
    }
   ],
   "metadata": {}
  },
  {
   "cell_type": "code",
   "execution_count": 16,
   "source": [
    "print(df[60][1])"
   ],
   "outputs": [
    {
     "output_type": "stream",
     "name": "stdout",
     "text": [
      "https://allafrica.com/stories/202109030652.html\n"
     ]
    }
   ],
   "metadata": {}
  },
  {
   "cell_type": "code",
   "execution_count": 19,
   "source": [
    "# df[df[60]=='https://dnd.com.pk/osce-armenia-and-azerbaijan/252737']"
   ],
   "outputs": [],
   "metadata": {}
  },
  {
   "cell_type": "code",
   "execution_count": 26,
   "source": [
    "df = df.drop_duplicates()"
   ],
   "outputs": [],
   "metadata": {}
  },
  {
   "cell_type": "code",
   "execution_count": 27,
   "source": [
    "df.shape"
   ],
   "outputs": [
    {
     "output_type": "execute_result",
     "data": {
      "text/plain": [
       "(1546, 61)"
      ]
     },
     "metadata": {},
     "execution_count": 27
    }
   ],
   "metadata": {}
  },
  {
   "cell_type": "code",
   "execution_count": 55,
   "source": [
    "df_parquet = pd.read_parquet('../parquetfiles/updatedfile.parquet')\n",
    "df_parquet.head()"
   ],
   "outputs": [
    {
     "output_type": "execute_result",
     "data": {
      "text/html": [
       "<div>\n",
       "<style scoped>\n",
       "    .dataframe tbody tr th:only-of-type {\n",
       "        vertical-align: middle;\n",
       "    }\n",
       "\n",
       "    .dataframe tbody tr th {\n",
       "        vertical-align: top;\n",
       "    }\n",
       "\n",
       "    .dataframe thead th {\n",
       "        text-align: right;\n",
       "    }\n",
       "</style>\n",
       "<table border=\"1\" class=\"dataframe\">\n",
       "  <thead>\n",
       "    <tr style=\"text-align: right;\">\n",
       "      <th></th>\n",
       "      <th>0</th>\n",
       "      <th>1</th>\n",
       "      <th>2</th>\n",
       "      <th>3</th>\n",
       "      <th>4</th>\n",
       "      <th>5</th>\n",
       "      <th>6</th>\n",
       "      <th>7</th>\n",
       "      <th>8</th>\n",
       "      <th>9</th>\n",
       "      <th>...</th>\n",
       "      <th>51</th>\n",
       "      <th>52</th>\n",
       "      <th>53</th>\n",
       "      <th>54</th>\n",
       "      <th>55</th>\n",
       "      <th>56</th>\n",
       "      <th>57</th>\n",
       "      <th>58</th>\n",
       "      <th>59</th>\n",
       "      <th>60</th>\n",
       "    </tr>\n",
       "  </thead>\n",
       "  <tbody>\n",
       "    <tr>\n",
       "      <th>0</th>\n",
       "      <td>1002396647</td>\n",
       "      <td>20200903</td>\n",
       "      <td>202009</td>\n",
       "      <td>2020</td>\n",
       "      <td>2020.6658</td>\n",
       "      <td>None</td>\n",
       "      <td>None</td>\n",
       "      <td>None</td>\n",
       "      <td>None</td>\n",
       "      <td>None</td>\n",
       "      <td>...</td>\n",
       "      <td>1</td>\n",
       "      <td>China</td>\n",
       "      <td>CH</td>\n",
       "      <td>CH</td>\n",
       "      <td>None</td>\n",
       "      <td>35.000000</td>\n",
       "      <td>105.0000</td>\n",
       "      <td>CH</td>\n",
       "      <td>20210903140000</td>\n",
       "      <td>https://www.marketscreener.com/quote/stock/CHI...</td>\n",
       "    </tr>\n",
       "    <tr>\n",
       "      <th>1</th>\n",
       "      <td>1002396648</td>\n",
       "      <td>20200903</td>\n",
       "      <td>202009</td>\n",
       "      <td>2020</td>\n",
       "      <td>2020.6658</td>\n",
       "      <td>EDU</td>\n",
       "      <td>PUPIL</td>\n",
       "      <td>None</td>\n",
       "      <td>None</td>\n",
       "      <td>None</td>\n",
       "      <td>...</td>\n",
       "      <td>5</td>\n",
       "      <td>Omusati, Omusati, Namibia</td>\n",
       "      <td>WA</td>\n",
       "      <td>WA36</td>\n",
       "      <td>42167</td>\n",
       "      <td>-18.333300</td>\n",
       "      <td>14.8333</td>\n",
       "      <td>311110</td>\n",
       "      <td>20210903140000</td>\n",
       "      <td>https://allafrica.com/stories/202109030652.html</td>\n",
       "    </tr>\n",
       "    <tr>\n",
       "      <th>2</th>\n",
       "      <td>1002396649</td>\n",
       "      <td>20200903</td>\n",
       "      <td>202009</td>\n",
       "      <td>2020</td>\n",
       "      <td>2020.6658</td>\n",
       "      <td>EDU</td>\n",
       "      <td>SCHOOL</td>\n",
       "      <td>None</td>\n",
       "      <td>None</td>\n",
       "      <td>None</td>\n",
       "      <td>...</td>\n",
       "      <td>4</td>\n",
       "      <td>Windhoek, Khomas, Namibia</td>\n",
       "      <td>WA</td>\n",
       "      <td>WA21</td>\n",
       "      <td>22288</td>\n",
       "      <td>-22.570000</td>\n",
       "      <td>17.0836</td>\n",
       "      <td>-2587496</td>\n",
       "      <td>20210903140000</td>\n",
       "      <td>https://allafrica.com/stories/202109030652.html</td>\n",
       "    </tr>\n",
       "    <tr>\n",
       "      <th>3</th>\n",
       "      <td>1002396650</td>\n",
       "      <td>20200903</td>\n",
       "      <td>202009</td>\n",
       "      <td>2020</td>\n",
       "      <td>2020.6658</td>\n",
       "      <td>ELI</td>\n",
       "      <td>FIRST LADY</td>\n",
       "      <td>None</td>\n",
       "      <td>None</td>\n",
       "      <td>None</td>\n",
       "      <td>...</td>\n",
       "      <td>2</td>\n",
       "      <td>Delaware, United States</td>\n",
       "      <td>US</td>\n",
       "      <td>USDE</td>\n",
       "      <td>None</td>\n",
       "      <td>39.349800</td>\n",
       "      <td>-75.5148</td>\n",
       "      <td>DE</td>\n",
       "      <td>20210903140000</td>\n",
       "      <td>https://www.dailymail.co.uk/news/article-99550...</td>\n",
       "    </tr>\n",
       "    <tr>\n",
       "      <th>4</th>\n",
       "      <td>1002396651</td>\n",
       "      <td>20200903</td>\n",
       "      <td>202009</td>\n",
       "      <td>2020</td>\n",
       "      <td>2020.6658</td>\n",
       "      <td>ELI</td>\n",
       "      <td>FIRST LADY</td>\n",
       "      <td>None</td>\n",
       "      <td>None</td>\n",
       "      <td>None</td>\n",
       "      <td>...</td>\n",
       "      <td>1</td>\n",
       "      <td>Singapore</td>\n",
       "      <td>SN</td>\n",
       "      <td>SN</td>\n",
       "      <td>None</td>\n",
       "      <td>1.366667</td>\n",
       "      <td>103.8000</td>\n",
       "      <td>SN</td>\n",
       "      <td>20210903140000</td>\n",
       "      <td>https://www.dailymail.co.uk/news/article-99550...</td>\n",
       "    </tr>\n",
       "  </tbody>\n",
       "</table>\n",
       "<p>5 rows × 61 columns</p>\n",
       "</div>"
      ],
      "text/plain": [
       "            0         1       2     3          4     5           6     7  \\\n",
       "0  1002396647  20200903  202009  2020  2020.6658  None        None  None   \n",
       "1  1002396648  20200903  202009  2020  2020.6658   EDU       PUPIL  None   \n",
       "2  1002396649  20200903  202009  2020  2020.6658   EDU      SCHOOL  None   \n",
       "3  1002396650  20200903  202009  2020  2020.6658   ELI  FIRST LADY  None   \n",
       "4  1002396651  20200903  202009  2020  2020.6658   ELI  FIRST LADY  None   \n",
       "\n",
       "      8     9  ... 51                         52  53    54     55         56  \\\n",
       "0  None  None  ...  1                      China  CH    CH   None  35.000000   \n",
       "1  None  None  ...  5  Omusati, Omusati, Namibia  WA  WA36  42167 -18.333300   \n",
       "2  None  None  ...  4  Windhoek, Khomas, Namibia  WA  WA21  22288 -22.570000   \n",
       "3  None  None  ...  2    Delaware, United States  US  USDE   None  39.349800   \n",
       "4  None  None  ...  1                  Singapore  SN    SN   None   1.366667   \n",
       "\n",
       "         57        58              59  \\\n",
       "0  105.0000        CH  20210903140000   \n",
       "1   14.8333    311110  20210903140000   \n",
       "2   17.0836  -2587496  20210903140000   \n",
       "3  -75.5148        DE  20210903140000   \n",
       "4  103.8000        SN  20210903140000   \n",
       "\n",
       "                                                  60  \n",
       "0  https://www.marketscreener.com/quote/stock/CHI...  \n",
       "1    https://allafrica.com/stories/202109030652.html  \n",
       "2    https://allafrica.com/stories/202109030652.html  \n",
       "3  https://www.dailymail.co.uk/news/article-99550...  \n",
       "4  https://www.dailymail.co.uk/news/article-99550...  \n",
       "\n",
       "[5 rows x 61 columns]"
      ]
     },
     "metadata": {},
     "execution_count": 55
    }
   ],
   "metadata": {}
  },
  {
   "cell_type": "code",
   "execution_count": null,
   "source": [],
   "outputs": [],
   "metadata": {}
  },
  {
   "cell_type": "code",
   "execution_count": null,
   "source": [],
   "outputs": [],
   "metadata": {}
  }
 ],
 "metadata": {
  "language_info": {
   "name": "python",
   "version": "3.8.6",
   "mimetype": "text/x-python",
   "codemirror_mode": {
    "name": "ipython",
    "version": 3
   },
   "pygments_lexer": "ipython3",
   "nbconvert_exporter": "python",
   "file_extension": ".py"
  },
  "kernelspec": {
   "name": "python3",
   "display_name": "Python 3.8.6 64-bit ('gdelt': pyenv)"
  },
  "interpreter": {
   "hash": "d510581366c270dbc3d84ad9de7d4ba719482482efbb5d0750c9f9b0cbf9eb5f"
  }
 },
 "nbformat": 4,
 "nbformat_minor": 5
}